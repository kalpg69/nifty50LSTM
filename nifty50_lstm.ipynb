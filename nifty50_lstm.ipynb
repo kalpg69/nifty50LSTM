{
  "nbformat": 4,
  "nbformat_minor": 0,
  "metadata": {
    "colab": {
      "name": "nifty50_lstm.ipynb",
      "provenance": [],
      "mount_file_id": "1MypeahdTNnrEvfzd5aZVGQcBkkw_Oq14",
      "authorship_tag": "ABX9TyM/wHpeKUxie4qc384yCHsY",
      "include_colab_link": true
    },
    "kernelspec": {
      "name": "python3",
      "display_name": "Python 3"
    },
    "language_info": {
      "name": "python"
    }
  },
  "cells": [
    {
      "cell_type": "markdown",
      "metadata": {
        "id": "view-in-github",
        "colab_type": "text"
      },
      "source": [
        "<a href=\"https://colab.research.google.com/github/kalpg69/nifty50LSTM/blob/master/nifty50_lstm.ipynb\" target=\"_parent\"><img src=\"https://colab.research.google.com/assets/colab-badge.svg\" alt=\"Open In Colab\"/></a>"
      ]
    },
    {
      "cell_type": "code",
      "metadata": {
        "id": "RkQoO25Ibolg"
      },
      "source": [
        "import tensorflow as tf\n",
        "from tensorflow import keras\n",
        "from tensorflow.keras.layers import Dense, LSTM, Dropout\n",
        "import pandas as pd\n",
        "import pandas_datareader.data as web\n",
        "import datetime\n",
        "import numpy as np\n",
        "from sklearn.preprocessing import MinMaxScaler\n",
        "import matplotlib.pyplot as plt"
      ],
      "execution_count": 1,
      "outputs": []
    },
    {
      "cell_type": "code",
      "metadata": {
        "id": "euhmaYBKn5Ie"
      },
      "source": [
        "train_data_start = datetime.datetime(2010, 1, 1)\n",
        "train_data_end = datetime.datetime(2021, 5, 30)\n",
        "train_data_df = web.DataReader(\"^NSEI\", 'yahoo', train_data_start, train_data_end)"
      ],
      "execution_count": 2,
      "outputs": []
    },
    {
      "cell_type": "code",
      "metadata": {
        "id": "nmivrdxYuvM8"
      },
      "source": [
        "train_data_df = train_data_df.sort_values('Date')\n",
        "train_data_df.reset_index(inplace=True)\n",
        "train_data_df.set_index('Date', inplace=True)"
      ],
      "execution_count": 3,
      "outputs": []
    },
    {
      "cell_type": "code",
      "metadata": {
        "id": "pcRXLzW4vkps"
      },
      "source": [
        "train_data = train_data_df.loc[:, 'Adj Close'].values\n",
        "scaler = MinMaxScaler()\n",
        "train_data = train_data.reshape(-1, 1)\n",
        "scaler.fit(train_data)\n",
        "train_data = scaler.transform(train_data)"
      ],
      "execution_count": 4,
      "outputs": []
    },
    {
      "cell_type": "code",
      "metadata": {
        "id": "fEpHjTrvwdAn"
      },
      "source": [
        "def create_dataset(dataset, look_back):\n",
        "  X_data, y_data = [], []\n",
        "  for i in range(len(dataset) - look_back):\n",
        "    X_data.append(dataset[i:(i + look_back), 0])\n",
        "    y_data.append(dataset[i + look_back, 0])\n",
        "  return np.array(X_data), np.array(y_data)"
      ],
      "execution_count": 5,
      "outputs": []
    },
    {
      "cell_type": "code",
      "metadata": {
        "id": "I2ak-RI_xnFt"
      },
      "source": [
        "time_steps = 30\n",
        "X_train, y_train = create_dataset(train_data, time_steps)\n",
        "X_train = np.reshape(X_train, (X_train.shape[0], time_steps, 1))"
      ],
      "execution_count": 6,
      "outputs": []
    },
    {
      "cell_type": "code",
      "metadata": {
        "colab": {
          "base_uri": "https://localhost:8080/"
        },
        "id": "Bdl5YQrfySZj",
        "outputId": "94d0dd28-bd62-47c7-886b-496c5fd46f1e"
      },
      "source": [
        "model = keras.Sequential()\n",
        "model.add(LSTM(units = 128, return_sequences = True, input_shape = (X_train.shape[1], 1)))\n",
        "model.add(Dropout(0.2))\n",
        "#model.add(LSTM(units=100, return_sequences=True))\n",
        "#model.add(Dropout(0.2))\n",
        "#model.add(LSTM(units=100, return_sequences=True))\n",
        "#model.add(Dropout(0.2))\n",
        "model.add(LSTM(units = 128))\n",
        "model.add(Dropout(0.2))\n",
        "model.add(Dense(units = 1))\n",
        "model.compile(optimizer = tf.keras.optimizers.Adam(learning_rate=0.001), loss = 'mean_squared_error')\n",
        "history = model.fit(X_train, y_train, epochs = 20, batch_size = 10, validation_split=.30)"
      ],
      "execution_count": 7,
      "outputs": [
        {
          "output_type": "stream",
          "text": [
            "Epoch 1/20\n",
            "194/194 [==============================] - 16s 64ms/step - loss: 0.0012 - val_loss: 8.0662e-04\n",
            "Epoch 2/20\n",
            "194/194 [==============================] - 12s 60ms/step - loss: 5.3464e-04 - val_loss: 0.0013\n",
            "Epoch 3/20\n",
            "194/194 [==============================] - 12s 60ms/step - loss: 4.7014e-04 - val_loss: 6.8846e-04\n",
            "Epoch 4/20\n",
            "194/194 [==============================] - 12s 61ms/step - loss: 4.0722e-04 - val_loss: 0.0012\n",
            "Epoch 5/20\n",
            "194/194 [==============================] - 12s 61ms/step - loss: 4.0046e-04 - val_loss: 0.0045\n",
            "Epoch 6/20\n",
            "194/194 [==============================] - 12s 60ms/step - loss: 3.6083e-04 - val_loss: 6.3960e-04\n",
            "Epoch 7/20\n",
            "194/194 [==============================] - 12s 60ms/step - loss: 3.0794e-04 - val_loss: 7.8679e-04\n",
            "Epoch 8/20\n",
            "194/194 [==============================] - 12s 60ms/step - loss: 2.8302e-04 - val_loss: 5.1403e-04\n",
            "Epoch 9/20\n",
            "194/194 [==============================] - 12s 60ms/step - loss: 2.6819e-04 - val_loss: 5.2609e-04\n",
            "Epoch 10/20\n",
            "194/194 [==============================] - 12s 61ms/step - loss: 2.7843e-04 - val_loss: 7.0979e-04\n",
            "Epoch 11/20\n",
            "194/194 [==============================] - 12s 61ms/step - loss: 2.4734e-04 - val_loss: 3.7454e-04\n",
            "Epoch 12/20\n",
            "194/194 [==============================] - 12s 61ms/step - loss: 2.6763e-04 - val_loss: 5.1992e-04\n",
            "Epoch 13/20\n",
            "194/194 [==============================] - 12s 60ms/step - loss: 2.7444e-04 - val_loss: 3.7213e-04\n",
            "Epoch 14/20\n",
            "194/194 [==============================] - 12s 60ms/step - loss: 2.2567e-04 - val_loss: 4.4213e-04\n",
            "Epoch 15/20\n",
            "194/194 [==============================] - 12s 60ms/step - loss: 2.2619e-04 - val_loss: 6.1527e-04\n",
            "Epoch 16/20\n",
            "194/194 [==============================] - 12s 60ms/step - loss: 2.2191e-04 - val_loss: 0.0012\n",
            "Epoch 17/20\n",
            "194/194 [==============================] - 12s 61ms/step - loss: 2.2109e-04 - val_loss: 7.0653e-04\n",
            "Epoch 18/20\n",
            "194/194 [==============================] - 12s 59ms/step - loss: 2.1360e-04 - val_loss: 4.1733e-04\n",
            "Epoch 19/20\n",
            "194/194 [==============================] - 12s 61ms/step - loss: 2.2337e-04 - val_loss: 3.4950e-04\n",
            "Epoch 20/20\n",
            "194/194 [==============================] - 12s 61ms/step - loss: 1.8715e-04 - val_loss: 4.8655e-04\n"
          ],
          "name": "stdout"
        }
      ]
    },
    {
      "cell_type": "code",
      "metadata": {
        "colab": {
          "base_uri": "https://localhost:8080/",
          "height": 295
        },
        "id": "8anTJ7LI5QF6",
        "outputId": "2c46bcb9-1455-4459-c7dd-bc1888fe2b0a"
      },
      "source": [
        "plt.plot(history.history['loss'])\n",
        "plt.plot(history.history['val_loss'])\n",
        "plt.title('Model loss')\n",
        "plt.ylabel('Loss')\n",
        "plt.xlabel('Epoch')\n",
        "plt.legend(['Train', 'Test'], loc='upper left')\n",
        "plt.show()"
      ],
      "execution_count": 8,
      "outputs": [
        {
          "output_type": "display_data",
          "data": {
            "image/png": "[encoded data removed]",
            "text/plain": [
              "<Figure size 432x288 with 1 Axes>"
            ]
          },
          "metadata": {
            "tags": [],
            "needs_background": "light"
          }
        }
      ]
    }
  ]
}